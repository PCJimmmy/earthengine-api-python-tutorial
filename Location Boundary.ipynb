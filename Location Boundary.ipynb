{
 "cells": [
  {
   "cell_type": "code",
   "execution_count": 17,
   "metadata": {
    "collapsed": false
   },
   "outputs": [],
   "source": [
    "import numpy as np\n",
    "import ee\n",
    "import matplotlib.pyplot as plt\n",
    "import tifffile as tiff\n",
    "import zipfile\n",
    "import os\n",
    "import requests\n",
    "from io import StringIO\n",
    "import random"
   ]
  },
  {
   "cell_type": "code",
   "execution_count": 8,
   "metadata": {
    "collapsed": true
   },
   "outputs": [],
   "source": [
    "ee.Initialize()"
   ]
  },
  {
   "cell_type": "code",
   "execution_count": 13,
   "metadata": {
    "collapsed": true
   },
   "outputs": [],
   "source": [
    "def unzipURL(img_url, tmp_directory = None):\n",
    "    \"\"\"\n",
    "    Downloads and unzips a file in a tmp directory.\n",
    "    Hits the server once.\n",
    "\n",
    "    img_url: A web address to a zip file.\n",
    "    tmp_directory: Optional path to unzip the contents.\n",
    "\n",
    "    Returns: Path to the directory containing the contents of the zip file.\n",
    "    \"\"\"\n",
    "\n",
    "    #\n",
    "    # Set up temp directory\n",
    "    #\n",
    "    if tmp_directory == None:\n",
    "        tmp_directory=\"./tmp/\"+str(random.randrange(99999999))\n",
    "    zip_filename = os.path.join(tmp_directory, 'zipped_tile.zip')\n",
    "    # make tmp directory\n",
    "    if not os.path.exists(tmp_directory):\n",
    "        os.makedirs(tmp_directory)\n",
    "    # and delete everything in it:\n",
    "    filelist = [ f for f in os.listdir(tmp_directory)]\n",
    "    for f in filelist:\n",
    "        os.remove(os.path.join(tmp_directory, f))\n",
    "\n",
    "    #\n",
    "    # Download file\n",
    "    #\n",
    "    try:\n",
    "        r = requests.get(img_url)\n",
    "        sc = r.status_code\n",
    "    except requests.ConnectionError as e:\n",
    "        raise e\n",
    "\n",
    "    if r.status_code == 200:\n",
    "        z = zipfile.ZipFile(StringIO.StringIO(r.content))\n",
    "        z.extractall(tmp_directory)\n",
    "        z.close()\n",
    "        return tmp_directory\n",
    "    elif r.status_code == 400:\n",
    "        print (\"Uh-oh. Status code 400 (Bad Request). Possible problems:\")\n",
    "        print (\"- You requested a band that wasn't available in every image.\")\n",
    "        print (\"- Some other unknown issue.\")\n",
    "        raise ServerError(\"Status code 400\")\n",
    "    elif r.status_code == 429:\n",
    "        raise ServerError(\"Status code 429\")\n",
    "    else:\n",
    "        raise ServerError(\"Uh-oh. Status code \" + str(r.status_code))\n",
    "\n",
    "    # Fall through on handled error/exception\n",
    "    raise Exception(\"Unknown error in unzipURL().\")\n"
   ]
  },
  {
   "cell_type": "code",
   "execution_count": 14,
   "metadata": {
    "collapsed": false
   },
   "outputs": [],
   "source": [
    "def tif_at_region(geCollection, resolution, bands, geo_bounds, verbose=False):\n",
    "    DEFAULT_MAP_NAME = 'map_section'\n",
    "    gee_img = geCollection.filterBounds(geo_bounds).select(bands).mosaic()\n",
    "    bands_string = [{'id': b} for b in bands]\n",
    "    path=gee_img.getDownloadUrl({\n",
    "            'name': DEFAULT_MAP_NAME,\n",
    "            'scale': resolution,\n",
    "            'crs': 'EPSG:4326',\n",
    "            'bands': bands_string,\n",
    "            'region': geo_bounds.getInfo()['coordinates']\n",
    "    });\n",
    "    \n",
    "    if verbose:\n",
    "        print(path)\n",
    "    \n",
    "    tif_location = unzipURL(path)\n",
    "    tif_filename_object = {}\n",
    "    for band in bands:\n",
    "        tif_filename = DEFAULT_MAP_NAME+'.'+band+'.tif'\n",
    "        tif_path = os.path.join(tif_location, tif_filename)\n",
    "        tif_filename_object[band] = tif_path\n",
    "    return tif_filename_object"
   ]
  },
  {
   "cell_type": "code",
   "execution_count": 15,
   "metadata": {
    "collapsed": true
   },
   "outputs": [],
   "source": [
    "def img_at_region(geCollection, resolution, bands, geo_bounds, verbose=False):\n",
    "    tif_band_dictionary = tif_at_region(geCollection, resolution, bands, geo_bounds, verbose)\n",
    "    img_band_dictionary = {}\n",
    "    for k,v in tif_band_dictionary.items():\n",
    "        img_band_dictionary[k] = tiff.imread(v)\n",
    "    return img_band_dictionary"
   ]
  },
  {
   "cell_type": "code",
   "execution_count": 18,
   "metadata": {
    "collapsed": false
   },
   "outputs": [
    {
     "ename": "AttributeError",
     "evalue": "type object '_io.StringIO' has no attribute 'StringIO'",
     "output_type": "error",
     "traceback": [
      "\u001b[0;31m---------------------------------------------------------------------------\u001b[0m",
      "\u001b[0;31mAttributeError\u001b[0m                            Traceback (most recent call last)",
      "\u001b[0;32m<ipython-input-18-0039f74c306d>\u001b[0m in \u001b[0;36m<module>\u001b[0;34m()\u001b[0m\n\u001b[1;32m      1\u001b[0m \u001b[0mnps_bounds\u001b[0m \u001b[1;33m=\u001b[0m \u001b[0mee\u001b[0m\u001b[1;33m.\u001b[0m\u001b[0mGeometry\u001b[0m\u001b[1;33m.\u001b[0m\u001b[0mRectangle\u001b[0m\u001b[1;33m(\u001b[0m\u001b[1;33m[\u001b[0m\u001b[1;33m-\u001b[0m\u001b[1;36m121.880742\u001b[0m\u001b[1;33m,\u001b[0m \u001b[1;36m36.600885\u001b[0m\u001b[1;33m,\u001b[0m \u001b[1;33m-\u001b[0m\u001b[1;36m121.866788\u001b[0m\u001b[1;33m,\u001b[0m \u001b[1;36m36.594170\u001b[0m\u001b[1;33m]\u001b[0m\u001b[1;33m)\u001b[0m\u001b[1;33m\u001b[0m\u001b[0m\n\u001b[0;32m----> 2\u001b[0;31m \u001b[0mtiles\u001b[0m \u001b[1;33m=\u001b[0m \u001b[0mimg_at_region\u001b[0m\u001b[1;33m(\u001b[0m\u001b[0mee\u001b[0m\u001b[1;33m.\u001b[0m\u001b[0mImageCollection\u001b[0m\u001b[1;33m(\u001b[0m\u001b[1;34m'USDA/NAIP/DOQQ'\u001b[0m\u001b[1;33m)\u001b[0m\u001b[1;33m,\u001b[0m \u001b[1;36m5\u001b[0m\u001b[1;33m,\u001b[0m \u001b[1;33m[\u001b[0m\u001b[1;34m'R'\u001b[0m\u001b[1;33m]\u001b[0m\u001b[1;33m,\u001b[0m \u001b[0mnps_bounds\u001b[0m\u001b[1;33m)\u001b[0m\u001b[1;33m\u001b[0m\u001b[0m\n\u001b[0m\u001b[1;32m      3\u001b[0m \u001b[0mplt\u001b[0m\u001b[1;33m.\u001b[0m\u001b[0mimshow\u001b[0m\u001b[1;33m(\u001b[0m\u001b[0mtiles\u001b[0m\u001b[1;33m[\u001b[0m\u001b[1;34m'R'\u001b[0m\u001b[1;33m]\u001b[0m\u001b[1;33m,\u001b[0m \u001b[0mcmap\u001b[0m\u001b[1;33m=\u001b[0m\u001b[1;34m'gray'\u001b[0m\u001b[1;33m)\u001b[0m\u001b[1;33m\u001b[0m\u001b[0m\n\u001b[1;32m      4\u001b[0m \u001b[0mplt\u001b[0m\u001b[1;33m.\u001b[0m\u001b[0mshow\u001b[0m\u001b[1;33m(\u001b[0m\u001b[1;33m)\u001b[0m\u001b[1;33m\u001b[0m\u001b[0m\n",
      "\u001b[0;32m<ipython-input-15-512e4daa26f9>\u001b[0m in \u001b[0;36mimg_at_region\u001b[0;34m(geCollection, resolution, bands, geo_bounds, verbose)\u001b[0m\n\u001b[1;32m      1\u001b[0m \u001b[1;32mdef\u001b[0m \u001b[0mimg_at_region\u001b[0m\u001b[1;33m(\u001b[0m\u001b[0mgeCollection\u001b[0m\u001b[1;33m,\u001b[0m \u001b[0mresolution\u001b[0m\u001b[1;33m,\u001b[0m \u001b[0mbands\u001b[0m\u001b[1;33m,\u001b[0m \u001b[0mgeo_bounds\u001b[0m\u001b[1;33m,\u001b[0m \u001b[0mverbose\u001b[0m\u001b[1;33m=\u001b[0m\u001b[1;32mFalse\u001b[0m\u001b[1;33m)\u001b[0m\u001b[1;33m:\u001b[0m\u001b[1;33m\u001b[0m\u001b[0m\n\u001b[0;32m----> 2\u001b[0;31m     \u001b[0mtif_band_dictionary\u001b[0m \u001b[1;33m=\u001b[0m \u001b[0mtif_at_region\u001b[0m\u001b[1;33m(\u001b[0m\u001b[0mgeCollection\u001b[0m\u001b[1;33m,\u001b[0m \u001b[0mresolution\u001b[0m\u001b[1;33m,\u001b[0m \u001b[0mbands\u001b[0m\u001b[1;33m,\u001b[0m \u001b[0mgeo_bounds\u001b[0m\u001b[1;33m,\u001b[0m \u001b[0mverbose\u001b[0m\u001b[1;33m)\u001b[0m\u001b[1;33m\u001b[0m\u001b[0m\n\u001b[0m\u001b[1;32m      3\u001b[0m     \u001b[0mimg_band_dictionary\u001b[0m \u001b[1;33m=\u001b[0m \u001b[1;33m{\u001b[0m\u001b[1;33m}\u001b[0m\u001b[1;33m\u001b[0m\u001b[0m\n\u001b[1;32m      4\u001b[0m     \u001b[1;32mfor\u001b[0m \u001b[0mk\u001b[0m\u001b[1;33m,\u001b[0m\u001b[0mv\u001b[0m \u001b[1;32min\u001b[0m \u001b[0mtif_band_dictionary\u001b[0m\u001b[1;33m.\u001b[0m\u001b[0mitems\u001b[0m\u001b[1;33m(\u001b[0m\u001b[1;33m)\u001b[0m\u001b[1;33m:\u001b[0m\u001b[1;33m\u001b[0m\u001b[0m\n\u001b[1;32m      5\u001b[0m         \u001b[0mimg_band_dictionary\u001b[0m\u001b[1;33m[\u001b[0m\u001b[0mk\u001b[0m\u001b[1;33m]\u001b[0m \u001b[1;33m=\u001b[0m \u001b[0mtiff\u001b[0m\u001b[1;33m.\u001b[0m\u001b[0mimread\u001b[0m\u001b[1;33m(\u001b[0m\u001b[0mv\u001b[0m\u001b[1;33m)\u001b[0m\u001b[1;33m\u001b[0m\u001b[0m\n",
      "\u001b[0;32m<ipython-input-14-318d29532e14>\u001b[0m in \u001b[0;36mtif_at_region\u001b[0;34m(geCollection, resolution, bands, geo_bounds, verbose)\u001b[0m\n\u001b[1;32m     14\u001b[0m         \u001b[0mprint\u001b[0m\u001b[1;33m(\u001b[0m\u001b[0mpath\u001b[0m\u001b[1;33m)\u001b[0m\u001b[1;33m\u001b[0m\u001b[0m\n\u001b[1;32m     15\u001b[0m \u001b[1;33m\u001b[0m\u001b[0m\n\u001b[0;32m---> 16\u001b[0;31m     \u001b[0mtif_location\u001b[0m \u001b[1;33m=\u001b[0m \u001b[0munzipURL\u001b[0m\u001b[1;33m(\u001b[0m\u001b[0mpath\u001b[0m\u001b[1;33m)\u001b[0m\u001b[1;33m\u001b[0m\u001b[0m\n\u001b[0m\u001b[1;32m     17\u001b[0m     \u001b[0mtif_filename_object\u001b[0m \u001b[1;33m=\u001b[0m \u001b[1;33m{\u001b[0m\u001b[1;33m}\u001b[0m\u001b[1;33m\u001b[0m\u001b[0m\n\u001b[1;32m     18\u001b[0m     \u001b[1;32mfor\u001b[0m \u001b[0mband\u001b[0m \u001b[1;32min\u001b[0m \u001b[0mbands\u001b[0m\u001b[1;33m:\u001b[0m\u001b[1;33m\u001b[0m\u001b[0m\n",
      "\u001b[0;32m<ipython-input-13-900847f3b79c>\u001b[0m in \u001b[0;36munzipURL\u001b[0;34m(img_url, tmp_directory)\u001b[0m\n\u001b[1;32m     34\u001b[0m \u001b[1;33m\u001b[0m\u001b[0m\n\u001b[1;32m     35\u001b[0m     \u001b[1;32mif\u001b[0m \u001b[0mr\u001b[0m\u001b[1;33m.\u001b[0m\u001b[0mstatus_code\u001b[0m \u001b[1;33m==\u001b[0m \u001b[1;36m200\u001b[0m\u001b[1;33m:\u001b[0m\u001b[1;33m\u001b[0m\u001b[0m\n\u001b[0;32m---> 36\u001b[0;31m         \u001b[0mz\u001b[0m \u001b[1;33m=\u001b[0m \u001b[0mzipfile\u001b[0m\u001b[1;33m.\u001b[0m\u001b[0mZipFile\u001b[0m\u001b[1;33m(\u001b[0m\u001b[0mStringIO\u001b[0m\u001b[1;33m.\u001b[0m\u001b[0mStringIO\u001b[0m\u001b[1;33m(\u001b[0m\u001b[0mr\u001b[0m\u001b[1;33m.\u001b[0m\u001b[0mcontent\u001b[0m\u001b[1;33m)\u001b[0m\u001b[1;33m)\u001b[0m\u001b[1;33m\u001b[0m\u001b[0m\n\u001b[0m\u001b[1;32m     37\u001b[0m         \u001b[0mz\u001b[0m\u001b[1;33m.\u001b[0m\u001b[0mextractall\u001b[0m\u001b[1;33m(\u001b[0m\u001b[0mtmp_directory\u001b[0m\u001b[1;33m)\u001b[0m\u001b[1;33m\u001b[0m\u001b[0m\n\u001b[1;32m     38\u001b[0m         \u001b[0mz\u001b[0m\u001b[1;33m.\u001b[0m\u001b[0mclose\u001b[0m\u001b[1;33m(\u001b[0m\u001b[1;33m)\u001b[0m\u001b[1;33m\u001b[0m\u001b[0m\n",
      "\u001b[0;31mAttributeError\u001b[0m: type object '_io.StringIO' has no attribute 'StringIO'"
     ]
    }
   ],
   "source": [
    "nps_bounds = ee.Geometry.Rectangle([-121.880742, 36.600885, -121.866788, 36.594170])\n",
    "tiles = img_at_region(ee.ImageCollection('USDA/NAIP/DOQQ'), 5, ['R'], nps_bounds)\n",
    "plt.imshow(tiles['R'], cmap='gray')\n",
    "plt.show()"
   ]
  },
  {
   "cell_type": "code",
   "execution_count": null,
   "metadata": {
    "collapsed": true
   },
   "outputs": [],
   "source": []
  }
 ],
 "metadata": {
  "kernelspec": {
   "display_name": "Python 3",
   "language": "python",
   "name": "python3"
  },
  "language_info": {
   "codemirror_mode": {
    "name": "ipython",
    "version": 3
   },
   "file_extension": ".py",
   "mimetype": "text/x-python",
   "name": "python",
   "nbconvert_exporter": "python",
   "pygments_lexer": "ipython3",
   "version": "3.6.0"
  }
 },
 "nbformat": 4,
 "nbformat_minor": 2
}
