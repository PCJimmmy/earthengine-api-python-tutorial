{
 "cells": [
  {
   "cell_type": "code",
   "execution_count": 3,
   "metadata": {
    "collapsed": false
   },
   "outputs": [],
   "source": [
    "import numpy as np\n",
    "import ee\n",
    "import matplotlib.pyplot as plt\n",
    "import tifffile as tiff\n",
    "import zipfile"
   ]
  },
  {
   "cell_type": "code",
   "execution_count": 2,
   "metadata": {
    "collapsed": true
   },
   "outputs": [],
   "source": [
    "ee.Initialize()"
   ]
  },
  {
   "cell_type": "code",
   "execution_count": null,
   "metadata": {
    "collapsed": true
   },
   "outputs": [],
   "source": [
    "def tif_at_region(geCollection, resolution, bands, geo_bounds, verbose=False):\n",
    "\n",
    "    DEFAULT_MAP_NAME = 'map_section'\n",
    "\n",
    "    # create the Google Earth Engine Image object\n",
    "    gee_img = geCollection.filterBounds(geo_bounds).select(bands).mosaic()\n",
    "\n",
    "    # convert the simple list of band names into the dictionary that the query needs\n",
    "    bands_string = [{'id': b} for b in bands]\n",
    "\n",
    "    # get the download link from google\n",
    "    path=gee_img.getDownloadUrl({\n",
    "            'name': DEFAULT_MAP_NAME,  # name the file (otherwise it will be a uninterpretable hash)\n",
    "            'scale': resolution,                              # resolution in meters\n",
    "            'crs': 'EPSG:4326', #4326                         #  projection\n",
    "            'bands': bands_string,\n",
    "            'region': geo_bounds.getInfo()['coordinates']\n",
    "            });\n",
    "\n",
    "    # debug output\n",
    "    if verbose:\n",
    "        print path\n",
    "\n",
    "    # unzip the tiff\n",
    "    tif_location = unzipURL(path)\n",
    "\n",
    "    tif_filename_object = {}\n",
    "    for b in bands:\n",
    "        # each tif in the zip file is in the format 'mapname.band.tif'\n",
    "        tif_filename = DEFAULT_MAP_NAME+'.'+b+'.tif'\n",
    "        tif_path = os.path.join(tif_location, tif_filename)\n",
    "        # add the calculated tif path to a dictionary, keyed by the band name\n",
    "        tif_filename_object[b] = tif_path\n",
    "\n",
    "\n",
    "\n",
    "    return tif_filename_object"
   ]
  },
  {
   "cell_type": "code",
   "execution_count": null,
   "metadata": {
    "collapsed": true
   },
   "outputs": [],
   "source": [
    "def img_at_region(geCollection, resolution, bands, geo_bounds, verbose=False):\n",
    "    tif_band_dictionary = tif_at_region(geCollection, resolution, bands, geo_bounds, verbose)\n",
    "    img_band_dictionary = {}\n",
    "\n",
    "    for k,v in tif_band_dictionary.items():\n",
    "        # img_band_dictionary[k] = mpimg.imread(v)\n",
    "        img_band_dictionary[k] = tiff.imread(v)\n",
    "\n",
    "    return img_band_dictionary"
   ]
  },
  {
   "cell_type": "code",
   "execution_count": 5,
   "metadata": {
    "collapsed": false
   },
   "outputs": [
    {
     "ename": "NameError",
     "evalue": "name 'img_at_region' is not defined",
     "output_type": "error",
     "traceback": [
      "\u001b[0;31m---------------------------------------------------------------------------\u001b[0m",
      "\u001b[0;31mNameError\u001b[0m                                 Traceback (most recent call last)",
      "\u001b[0;32m<ipython-input-5-0039f74c306d>\u001b[0m in \u001b[0;36m<module>\u001b[0;34m()\u001b[0m\n\u001b[1;32m      1\u001b[0m \u001b[0mnps_bounds\u001b[0m \u001b[1;33m=\u001b[0m \u001b[0mee\u001b[0m\u001b[1;33m.\u001b[0m\u001b[0mGeometry\u001b[0m\u001b[1;33m.\u001b[0m\u001b[0mRectangle\u001b[0m\u001b[1;33m(\u001b[0m\u001b[1;33m[\u001b[0m\u001b[1;33m-\u001b[0m\u001b[1;36m121.880742\u001b[0m\u001b[1;33m,\u001b[0m \u001b[1;36m36.600885\u001b[0m\u001b[1;33m,\u001b[0m \u001b[1;33m-\u001b[0m\u001b[1;36m121.866788\u001b[0m\u001b[1;33m,\u001b[0m \u001b[1;36m36.594170\u001b[0m\u001b[1;33m]\u001b[0m\u001b[1;33m)\u001b[0m\u001b[1;33m\u001b[0m\u001b[0m\n\u001b[0;32m----> 2\u001b[0;31m \u001b[0mtiles\u001b[0m \u001b[1;33m=\u001b[0m \u001b[0mimg_at_region\u001b[0m\u001b[1;33m(\u001b[0m\u001b[0mee\u001b[0m\u001b[1;33m.\u001b[0m\u001b[0mImageCollection\u001b[0m\u001b[1;33m(\u001b[0m\u001b[1;34m'USDA/NAIP/DOQQ'\u001b[0m\u001b[1;33m)\u001b[0m\u001b[1;33m,\u001b[0m \u001b[1;36m5\u001b[0m\u001b[1;33m,\u001b[0m \u001b[1;33m[\u001b[0m\u001b[1;34m'R'\u001b[0m\u001b[1;33m]\u001b[0m\u001b[1;33m,\u001b[0m \u001b[0mnps_bounds\u001b[0m\u001b[1;33m)\u001b[0m\u001b[1;33m\u001b[0m\u001b[0m\n\u001b[0m\u001b[1;32m      3\u001b[0m \u001b[0mplt\u001b[0m\u001b[1;33m.\u001b[0m\u001b[0mimshow\u001b[0m\u001b[1;33m(\u001b[0m\u001b[0mtiles\u001b[0m\u001b[1;33m[\u001b[0m\u001b[1;34m'R'\u001b[0m\u001b[1;33m]\u001b[0m\u001b[1;33m,\u001b[0m \u001b[0mcmap\u001b[0m\u001b[1;33m=\u001b[0m\u001b[1;34m'gray'\u001b[0m\u001b[1;33m)\u001b[0m\u001b[1;33m\u001b[0m\u001b[0m\n\u001b[1;32m      4\u001b[0m \u001b[0mplt\u001b[0m\u001b[1;33m.\u001b[0m\u001b[0mshow\u001b[0m\u001b[1;33m(\u001b[0m\u001b[1;33m)\u001b[0m\u001b[1;33m\u001b[0m\u001b[0m\n",
      "\u001b[0;31mNameError\u001b[0m: name 'img_at_region' is not defined"
     ]
    }
   ],
   "source": [
    "nps_bounds = ee.Geometry.Rectangle([-121.880742, 36.600885, -121.866788, 36.594170])\n",
    "tiles = img_at_region(ee.ImageCollection('USDA/NAIP/DOQQ'), 5, ['R'], nps_bounds)\n",
    "plt.imshow(tiles['R'], cmap='gray')\n",
    "plt.show()"
   ]
  },
  {
   "cell_type": "code",
   "execution_count": null,
   "metadata": {
    "collapsed": true
   },
   "outputs": [],
   "source": []
  }
 ],
 "metadata": {
  "kernelspec": {
   "display_name": "Python 3",
   "language": "python",
   "name": "python3"
  },
  "language_info": {
   "codemirror_mode": {
    "name": "ipython",
    "version": 3
   },
   "file_extension": ".py",
   "mimetype": "text/x-python",
   "name": "python",
   "nbconvert_exporter": "python",
   "pygments_lexer": "ipython3",
   "version": "3.6.0"
  }
 },
 "nbformat": 4,
 "nbformat_minor": 2
}
