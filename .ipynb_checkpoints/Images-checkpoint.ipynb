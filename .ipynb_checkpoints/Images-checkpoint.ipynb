{
 "cells": [
  {
   "cell_type": "code",
   "execution_count": 1,
   "metadata": {
    "collapsed": false
   },
   "outputs": [],
   "source": [
    "import ee\n",
    "import ee.mapclient\n",
    "from PIL import Image\n",
    "import datetime"
   ]
  },
  {
   "cell_type": "code",
   "execution_count": 2,
   "metadata": {
    "collapsed": true
   },
   "outputs": [],
   "source": [
    "ee.Initialize()"
   ]
  },
  {
   "cell_type": "markdown",
   "metadata": {},
   "source": [
    "### Generating Image URL"
   ]
  },
  {
   "cell_type": "code",
   "execution_count": 3,
   "metadata": {
    "collapsed": false
   },
   "outputs": [
    {
     "name": "stdout",
     "output_type": "stream",
     "text": [
      "ee.Image({\n",
      "  \"type\": \"Invocation\",\n",
      "  \"arguments\": {\n",
      "    \"id\": \"CGIAR/SRTM90_V4\"\n",
      "  },\n",
      "  \"functionName\": \"Image.load\"\n",
      "})\n"
     ]
    }
   ],
   "source": [
    "image = ee.Image('CGIAR/SRTM90_V4')\n",
    "print(image)"
   ]
  },
  {
   "cell_type": "code",
   "execution_count": 4,
   "metadata": {
    "collapsed": false
   },
   "outputs": [],
   "source": [
    "path = image.getDownloadUrl({\n",
    "    'scale': 30,\n",
    "    'crs': 'EPSG:4326',\n",
    "    'region': '[[-120, 35], [-119, 35], [-119, 34], [-120, 34]]'\n",
    "})"
   ]
  },
  {
   "cell_type": "code",
   "execution_count": 5,
   "metadata": {
    "collapsed": false
   },
   "outputs": [
    {
     "name": "stdout",
     "output_type": "stream",
     "text": [
      "https://earthengine.googleapis.com/api/download?docid=0f0b23396a878bb4d3a39389535df13d&token=50174afcf80d4de6a5142fbc1e36c7a8\n"
     ]
    }
   ],
   "source": [
    "print(path)"
   ]
  },
  {
   "cell_type": "markdown",
   "metadata": {},
   "source": [
    "Download the above zip and extract the tif image file"
   ]
  },
  {
   "cell_type": "code",
   "execution_count": 6,
   "metadata": {
    "collapsed": false
   },
   "outputs": [],
   "source": [
    "#ee.mapclient.addToMap(image, {'min': 0, 'max': 3000})"
   ]
  },
  {
   "cell_type": "markdown",
   "metadata": {},
   "source": [
    "### Plot to Map Canvas"
   ]
  },
  {
   "cell_type": "code",
   "execution_count": 7,
   "metadata": {
    "collapsed": true
   },
   "outputs": [],
   "source": [
    "ee.Initialize()"
   ]
  },
  {
   "cell_type": "markdown",
   "metadata": {},
   "source": [
    "Filter the LE7 collection to a single date."
   ]
  },
  {
   "cell_type": "code",
   "execution_count": 8,
   "metadata": {
    "collapsed": true
   },
   "outputs": [],
   "source": [
    "collection = (ee.ImageCollection('LANDSAT/LE07/C01/T1').filterDate(datetime.datetime(2002, 11, 8),datetime.datetime(2002, 11, 9)))"
   ]
  },
  {
   "cell_type": "markdown",
   "metadata": {},
   "source": [
    "Locate Center and Cut out First 3 Bands"
   ]
  },
  {
   "cell_type": "code",
   "execution_count": 9,
   "metadata": {
    "collapsed": false
   },
   "outputs": [
    {
     "name": "stderr",
     "output_type": "stream",
     "text": [
      "HTTP Error 403: Forbidden\n",
      "HTTP Error 403: Forbidden\n",
      "HTTP Error 403: Forbidden\n",
      "HTTP Error 403: Forbidden\n",
      "HTTP Error 403: Forbidden\n",
      "HTTP Error 403: Forbidden\n",
      "HTTP Error 403: Forbidden\n",
      "HTTP Error 403: Forbidden\n",
      "HTTP Error 403: Forbidden\n",
      "HTTP Error 403: Forbidden\n",
      "HTTP Error 403: Forbidden\n",
      "HTTP Error 403: Forbidden\n",
      "HTTP Error 403: Forbidden\n",
      "HTTP Error 403: Forbidden\n",
      "HTTP Error 403: Forbidden\n",
      "HTTP Error 403: Forbidden\n",
      "HTTP Error 403: Forbidden\n",
      "HTTP Error 403: Forbidden\n",
      "HTTP Error 403: Forbidden\n",
      "HTTP Error 403: Forbidden\n",
      "HTTP Error 403: Forbidden\n",
      "HTTP Error 403: Forbidden\n",
      "HTTP Error 403: ForbiddenHTTP Error 403: ForbiddenHTTP Error 403: Forbidden\n",
      "\n",
      "\n",
      "HTTP Error 403: Forbidden\n",
      "HTTP Error 403: Forbidden\n",
      "HTTP Error 403: Forbidden\n",
      "HTTP Error 403: Forbidden\n",
      "HTTP Error 403: Forbidden\n",
      "HTTP Error 403: Forbidden\n"
     ]
    }
   ],
   "source": [
    "ee.mapclient.centerMap(-95.738, 18.453, 9)\n",
    "image = collection.mosaic().select('B3', 'B2', 'B1')\n",
    "ee.mapclient.addToMap(image, {'gain': '1.6, 1.4, 1.1'}, 'Land')"
   ]
  },
  {
   "cell_type": "markdown",
   "metadata": {},
   "source": [
    "Add and stretch the water.  Once where the elevation is masked, and again where the elevation is zero."
   ]
  },
  {
   "cell_type": "code",
   "execution_count": 10,
   "metadata": {
    "collapsed": true
   },
   "outputs": [],
   "source": [
    "elev = ee.Image('CGIAR/SRTM90_V4')"
   ]
  },
  {
   "cell_type": "code",
   "execution_count": null,
   "metadata": {
    "collapsed": false
   },
   "outputs": [],
   "source": [
    "mask1 = elev.mask().eq(0).And(image.mask())\n",
    "mask2 = elev.eq(0).And(image.mask())"
   ]
  },
  {
   "cell_type": "code",
   "execution_count": null,
   "metadata": {
    "collapsed": false
   },
   "outputs": [
    {
     "name": "stderr",
     "output_type": "stream",
     "text": [
      "HTTP Error 403: Forbidden\n",
      "HTTP Error 403: Forbidden\n",
      "HTTP Error 403: Forbidden\n",
      "HTTP Error 403: Forbidden\n",
      "HTTP Error 403: Forbidden\n",
      "HTTP Error 403: Forbidden\n",
      "HTTP Error 403: Forbidden\n",
      "HTTP Error 403: Forbidden\n",
      "HTTP Error 403: Forbidden\n",
      "HTTP Error 403: Forbidden\n",
      "HTTP Error 403: Forbidden\n",
      "HTTP Error 403: Forbidden\n",
      "HTTP Error 403: Forbidden\n",
      "HTTP Error 403: Forbidden\n",
      "HTTP Error 403: Forbidden\n",
      "HTTP Error 403: Forbidden\n",
      "HTTP Error 403: Forbidden\n",
      "HTTP Error 403: Forbidden\n",
      "HTTP Error 403: Forbidden\n",
      "HTTP Error 403: Forbidden\n",
      "HTTP Error 403: Forbidden\n",
      "HTTP Error 403: Forbidden\n",
      "HTTP Error 403: ForbiddenHTTP Error 403: ForbiddenHTTP Error 403: Forbidden\n",
      "\n",
      "\n",
      "HTTP Error 403: Forbidden\n",
      "HTTP Error 403: Forbidden\n",
      "HTTP Error 403: Forbidden\n",
      "HTTP Error 403: Forbidden\n",
      "HTTP Error 403: Forbidden\n",
      "HTTP Error 403: Forbidden\n",
      "HTTP Error 403: Forbidden\n",
      "HTTP Error 403: Forbidden\n",
      "HTTP Error 403: Forbidden\n",
      "HTTP Error 403: Forbidden\n",
      "HTTP Error 403: Forbidden\n",
      "HTTP Error 403: Forbidden\n",
      "HTTP Error 403: Forbidden\n",
      "HTTP Error 403: Forbidden\n",
      "HTTP Error 403: Forbidden\n",
      "HTTP Error 403: Forbidden\n",
      "HTTP Error 403: Forbidden\n",
      "HTTP Error 403: Forbidden\n",
      "HTTP Error 403: Forbidden\n",
      "HTTP Error 403: Forbidden\n",
      "HTTP Error 403: Forbidden\n",
      "HTTP Error 403: Forbidden\n",
      "HTTP Error 403: Forbidden\n",
      "HTTP Error 403: Forbidden\n",
      "HTTP Error 403: Forbidden\n",
      "HTTP Error 403: Forbidden\n"
     ]
    }
   ],
   "source": [
    "ee.mapclient.addToMap(image.mask(mask1), {'gain': 6.0, 'bias': -200}, 'Water: Masked')\n",
    "ee.mapclient.addToMap(image.mask(mask2), {'gain': 6.0, 'bias': -200}, 'Water: Elev 0')"
   ]
  }
 ],
 "metadata": {
  "kernelspec": {
   "display_name": "Python 3",
   "language": "python",
   "name": "python3"
  },
  "language_info": {
   "codemirror_mode": {
    "name": "ipython",
    "version": 3
   },
   "file_extension": ".py",
   "mimetype": "text/x-python",
   "name": "python",
   "nbconvert_exporter": "python",
   "pygments_lexer": "ipython3",
   "version": "3.6.0"
  }
 },
 "nbformat": 4,
 "nbformat_minor": 2
}
