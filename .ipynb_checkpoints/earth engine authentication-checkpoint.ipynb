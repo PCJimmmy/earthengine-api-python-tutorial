{
 "cells": [
  {
   "cell_type": "code",
   "execution_count": 1,
   "metadata": {
    "collapsed": false
   },
   "outputs": [],
   "source": [
    "import ee"
   ]
  },
  {
   "cell_type": "code",
   "execution_count": 3,
   "metadata": {
    "collapsed": false
   },
   "outputs": [
    {
     "name": "stdout",
     "output_type": "stream",
     "text": [
      "The Earth Engine package failed to initialize!\n"
     ]
    }
   ],
   "source": [
    "try:\n",
    "  ee.Initialize()\n",
    "  print('The Earth Engine package initialized successfully!')\n",
    "except ee.EEException as e:\n",
    "  print('The Earth Engine package failed to initialize!')\n",
    "except:\n",
    "    print(\"Unexpected error:\", sys.exc_info()[0])\n",
    "    raise"
   ]
  },
  {
   "cell_type": "code",
   "execution_count": 6,
   "metadata": {
    "collapsed": false
   },
   "outputs": [
    {
     "name": "stdout",
     "output_type": "stream",
     "text": [
      "Microsoft Windows [Version 6.3.9600]\r\n",
      "(c) 2013 Microsoft Corporation. All rights reserved.\r\n",
      "\r\n",
      "(C:\\Users\\Utkarsh Sah\\Anaconda3) C:\\Users\\Utkarsh Sah\\Desktop\\flood-prediction-using-satellite-imagery\\scrap\\google earth engine api>earthengine authenticate --quiet\n",
      "Paste the following address into a web browser:\r\n",
      "\r\n",
      "    https://accounts.google.com/o/oauth2/auth?client_id=517222506229-vsmmajv00ul0bs7p89v5m89qs8eb9359.apps.googleusercontent.com&scope=https%3A%2F%2Fwww.googleapis.com%2Fauth%2Fearthengine+https%3A%2F%2Fwww.googleapis.com%2Fauth%2Fdevstorage.full_control&redirect_uri=urn%3Aietf%3Awg%3Aoauth%3A2.0%3Aoob&response_type=code\r\n",
      "\r\n",
      "On the web page, please authorize access to your Earth Engine account and copy the authentication code. Next authenticate with the following command:\r\n",
      "\r\n",
      "    earthengine authenticate --authorization-code=PLACE_AUTH_CODE_HERE\r\n",
      "\r\n",
      "\r\n",
      "(C:\\Users\\Utkarsh Sah\\Anaconda3) C:\\Users\\Utkarsh Sah\\Desktop\\flood-prediction-using-satellite-imagery\\scrap\\google earth engine api>"
     ]
    }
   ],
   "source": [
    "%%cmd\n",
    "earthengine authenticate --quiet"
   ]
  },
  {
   "cell_type": "code",
   "execution_count": 5,
   "metadata": {
    "collapsed": true
   },
   "outputs": [],
   "source": [
    "auth_key = '4/eQBE19p6mep1oQLYCM8JTF1Db_cJcOFAWzc8SqlaXiqaZFrKAvUhNc8'"
   ]
  },
  {
   "cell_type": "code",
   "execution_count": 7,
   "metadata": {
    "collapsed": false
   },
   "outputs": [
    {
     "name": "stdout",
     "output_type": "stream",
     "text": [
      "Microsoft Windows [Version 6.3.9600]\r\n",
      "(c) 2013 Microsoft Corporation. All rights reserved.\r\n",
      "\r\n",
      "(C:\\Users\\Utkarsh Sah\\Anaconda3) C:\\Users\\Utkarsh Sah\\Desktop\\flood-prediction-using-satellite-imagery\\scrap\\google earth engine api>earthengine authenticate --authorization-code=4/eQBE19p6mep1oQLYCM8JTF1Db_cJcOFAWzc8SqlaXiqaZFrKAvUhNc8\n",
      "\r\n",
      "Successfully saved authorization token.\r\n",
      "\r\n",
      "(C:\\Users\\Utkarsh Sah\\Anaconda3) C:\\Users\\Utkarsh Sah\\Desktop\\flood-prediction-using-satellite-imagery\\scrap\\google earth engine api>"
     ]
    }
   ],
   "source": [
    "%%cmd\n",
    "earthengine authenticate --authorization-code=4/eQBE19p6mep1oQLYCM8JTF1Db_cJcOFAWzc8SqlaXiqaZFrKAvUhNc8"
   ]
  },
  {
   "cell_type": "code",
   "execution_count": 8,
   "metadata": {
    "collapsed": false
   },
   "outputs": [
    {
     "name": "stdout",
     "output_type": "stream",
     "text": [
      "The Earth Engine package initialized successfully!\n"
     ]
    }
   ],
   "source": [
    "try:\n",
    "  ee.Initialize()\n",
    "  print('The Earth Engine package initialized successfully!')\n",
    "except ee.EEException as e:\n",
    "  print('The Earth Engine package failed to initialize!')\n",
    "except:\n",
    "    print(\"Unexpected error:\", sys.exc_info()[0])\n",
    "    raise"
   ]
  },
  {
   "cell_type": "code",
   "execution_count": 12,
   "metadata": {
    "collapsed": false
   },
   "outputs": [
    {
     "data": {
      "text/plain": [
       "['Algorithms',\n",
       " 'ApiFunction',\n",
       " 'Array',\n",
       " 'Blob',\n",
       " 'Classifier',\n",
       " 'Clusterer',\n",
       " 'Collection',\n",
       " 'ComputedObject',\n",
       " 'ConfusionMatrix',\n",
       " 'CustomFunction',\n",
       " 'Date',\n",
       " 'DateRange',\n",
       " 'Dictionary',\n",
       " 'EEException',\n",
       " 'Element',\n",
       " 'Encodable',\n",
       " 'ErrorMargin',\n",
       " 'Feature',\n",
       " 'FeatureCollection',\n",
       " 'Filter',\n",
       " 'Function',\n",
       " 'Geometry',\n",
       " 'Image',\n",
       " 'ImageCollection',\n",
       " 'Initialize',\n",
       " 'Join',\n",
       " 'Kernel',\n",
       " 'List',\n",
       " 'Number',\n",
       " 'PixelType',\n",
       " 'Projection',\n",
       " 'Reducer',\n",
       " 'Reset',\n",
       " 'SelectorSet',\n",
       " 'Serializer',\n",
       " 'ServiceAccountCredentials',\n",
       " 'String',\n",
       " 'Terrain',\n",
       " '_AlgorithmsContainer',\n",
       " '_GetPersistentCredentials',\n",
       " '_InitializeGeneratedClasses',\n",
       " '_InitializeUnboundMethods',\n",
       " '_MakeClass',\n",
       " '_Promote',\n",
       " '_ResetGeneratedClasses',\n",
       " '__builtins__',\n",
       " '__cached__',\n",
       " '__doc__',\n",
       " '__file__',\n",
       " '__loader__',\n",
       " '__name__',\n",
       " '__package__',\n",
       " '__path__',\n",
       " '__spec__',\n",
       " '__version__',\n",
       " '_generatedClasses',\n",
       " '_helpers',\n",
       " 'apifunction',\n",
       " 'apply',\n",
       " 'batch',\n",
       " 'call',\n",
       " 'collection',\n",
       " 'collections',\n",
       " 'computedobject',\n",
       " 'customfunction',\n",
       " 'data',\n",
       " 'datetime',\n",
       " 'deprecation',\n",
       " 'deserializer',\n",
       " 'dictionary',\n",
       " 'ee_date',\n",
       " 'ee_exception',\n",
       " 'ee_list',\n",
       " 'ee_number',\n",
       " 'ee_string',\n",
       " 'ee_types',\n",
       " 'element',\n",
       " 'encodable',\n",
       " 'feature',\n",
       " 'featurecollection',\n",
       " 'filter',\n",
       " 'function',\n",
       " 'geometry',\n",
       " 'image',\n",
       " 'imagecollection',\n",
       " 'inspect',\n",
       " 'numbers',\n",
       " 'oauth',\n",
       " 'os',\n",
       " 'profilePrinting',\n",
       " 'serializer',\n",
       " 'six',\n",
       " 'terrain',\n",
       " 'types']"
      ]
     },
     "execution_count": 12,
     "metadata": {},
     "output_type": "execute_result"
    }
   ],
   "source": [
    "dir(ee)"
   ]
  }
 ],
 "metadata": {
  "kernelspec": {
   "display_name": "Python 3",
   "language": "python",
   "name": "python3"
  },
  "language_info": {
   "codemirror_mode": {
    "name": "ipython",
    "version": 3
   },
   "file_extension": ".py",
   "mimetype": "text/x-python",
   "name": "python",
   "nbconvert_exporter": "python",
   "pygments_lexer": "ipython3",
   "version": "3.6.0"
  }
 },
 "nbformat": 4,
 "nbformat_minor": 2
}
