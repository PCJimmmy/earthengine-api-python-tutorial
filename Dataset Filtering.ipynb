{
 "cells": [
  {
   "cell_type": "code",
   "execution_count": 1,
   "metadata": {
    "collapsed": true
   },
   "outputs": [],
   "source": [
    "import ee\n",
    "import time\n",
    "import sys\n",
    "import numpy as np\n",
    "import pandas as pd\n",
    "import itertools\n",
    "import os\n",
    "import urllib"
   ]
  },
  {
   "cell_type": "code",
   "execution_count": 2,
   "metadata": {
    "collapsed": true
   },
   "outputs": [],
   "source": [
    "ee.Initialize()"
   ]
  },
  {
   "cell_type": "code",
   "execution_count": 3,
   "metadata": {
    "collapsed": true
   },
   "outputs": [],
   "source": [
    "def export_oneimage(img, folder, name, region, scale, crs):\n",
    "    path_dict = {\n",
    "        'driveFolder': folder,\n",
    "        'driveFileNamePrefix': name,\n",
    "        'region': region,\n",
    "        'scale': scale,\n",
    "        'crs': crs\n",
    "    }\n",
    "    task = ee.batch.Export.image(img, name, path_dict)\n",
    "    task.start()\n",
    "    \n",
    "    while (task.status()['state'] == 'RUNNING'):\n",
    "        print('Running...')\n",
    "        #Perhaps task.cancel() at some point\n",
    "        time.sleep(10)\n",
    "    print('Done', task.status())"
   ]
  },
  {
   "cell_type": "code",
   "execution_count": 4,
   "metadata": {
    "collapsed": true
   },
   "outputs": [],
   "source": [
    "def appendBand(current, previous):\n",
    "    # Rename the band\n",
    "    previous = ee.Image(previous)\n",
    "    current = current.select([0,1,2,3,4,5,6])\n",
    "    # Append it to the result (Note: only return current item on first element/iteration)\n",
    "    accum = ee.Algorithms.If(ee.Algorithms.IsEqual(previous,None), current, previous.addBands(ee.Image(current)))\n",
    "    # Return the accumulation\n",
    "    return accum"
   ]
  },
  {
   "cell_type": "code",
   "execution_count": 5,
   "metadata": {
    "collapsed": true
   },
   "outputs": [],
   "source": [
    "imgcoll = ee.ImageCollection('MODIS/MOD09A1').filterBounds(ee.Geometry.Rectangle([-74.48, 39.3893, -74.406, 39.3443])).filterDate('2014-01-01', '2014-01-04')\n",
    "img = imgcoll.iterate(appendBand)"
   ]
  },
  {
   "cell_type": "code",
   "execution_count": 6,
   "metadata": {
    "collapsed": true
   },
   "outputs": [],
   "source": [
    "locations = pd.read_excel('locations.xlsx')"
   ]
  },
  {
   "cell_type": "markdown",
   "metadata": {},
   "source": [
    "###### The files be saved in your Google Drive in a folder named \"Earth Engine Data\""
   ]
  },
  {
   "cell_type": "code",
   "execution_count": 7,
   "metadata": {
    "collapsed": false
   },
   "outputs": [
    {
     "name": "stdout",
     "output_type": "stream",
     "text": [
      "Running...\n",
      "Running...\n",
      "Done {'id': 'ZXTEELGUVOQI3OP4GH3WMIBW', 'state': 'COMPLETED', 'creation_timestamp_ms': 1539769202212, 'update_timestamp_ms': 1539769221822, 'description': 'ATL_L', 'task_type': 'EXPORT_IMAGE', 'output_url': ['https://drive.google.com/#folders/1dkUh3NVqYTzbkLxAAkS3rVMyJFy7dYXs'], 'start_timestamp_ms': 1539769206982}\n",
      "Done {'id': 'QNFKP2GSPZZCPXPOCQNW2JIX', 'state': 'READY', 'creation_timestamp_ms': 1539769244546, 'update_timestamp_ms': 1539769244546, 'description': 'ATL_M', 'task_type': 'EXPORT_IMAGE'}\n",
      "Running...\n",
      "Done {'id': 'BWBV2I74SXJ3Q4OEDP3KS2F6', 'state': 'COMPLETED', 'creation_timestamp_ms': 1539769257206, 'update_timestamp_ms': 1539769269995, 'description': 'ATL_R', 'task_type': 'EXPORT_IMAGE', 'output_url': ['https://drive.google.com/#folders/1dkUh3NVqYTzbkLxAAkS3rVMyJFy7dYXs'], 'start_timestamp_ms': 1539769260800}\n"
     ]
    }
   ],
   "source": [
    "for loc1, loc2, lat, lon in locations.values:\n",
    "    fname = '{}_{}'.format(loc1, loc2)\n",
    "    offset = 0.11\n",
    "    scale  = 500\n",
    "    crs='EPSG:4326'\n",
    "    region = str([\n",
    "        [lat - offset, lon + offset],\n",
    "        [lat + offset, lon + offset],\n",
    "        [lat + offset, lon - offset],\n",
    "        [lat - offset, lon - offset]])\n",
    "    while (True):\n",
    "        try:\n",
    "            export_oneimage(img,'Earth Engine Data',fname,region,scale,crs)\n",
    "        except:\n",
    "            print ('Retry')\n",
    "            time.sleep(10)\n",
    "            continue\n",
    "        break"
   ]
  }
 ],
 "metadata": {
  "kernelspec": {
   "display_name": "Python 3",
   "language": "python",
   "name": "python3"
  },
  "language_info": {
   "codemirror_mode": {
    "name": "ipython",
    "version": 3
   },
   "file_extension": ".py",
   "mimetype": "text/x-python",
   "name": "python",
   "nbconvert_exporter": "python",
   "pygments_lexer": "ipython3",
   "version": "3.6.0"
  }
 },
 "nbformat": 4,
 "nbformat_minor": 2
}
